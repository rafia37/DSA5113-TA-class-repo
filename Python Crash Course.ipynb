{
 "cells": [
  {
   "cell_type": "markdown",
   "metadata": {},
   "source": [
    "### Topics\n",
    "This notebook covers the following topics -\n",
    "1. Basic Concepts\n",
    "    1. [Basic Syntax](#basic-syntax)\n",
    "    2. [Lists](#lists)\n",
    "    3. [String Manipulation](#string)\n",
    "    4. [Decision making (If statement)](#if)\n",
    "    5. Loops\n",
    "        1. [For loop](#for)\n",
    "        2. [While loop](#while)\n",
    "    6. [Function](#func)\n",
    "    7. [Scope](#scope)\n",
    "    8. Miscellaneous\n",
    "        1. [Dictionary](#dict)\n",
    "        2. [Tuples](#tuple)\n",
    "        3. [List Comprehension](#lc)\n",
    "        4. [Error Handling](#eh)\n",
    "        5. [Lambda Expressions](#le)\n",
    "        6. [Mapping Function](#mf)\n",
    "        7. [User Input](#ui)\n",
    "2. Advanced Concepts\n",
    "    1. [Numpy](#numpy)\n",
    "    2. [Pandas](#pandas)\n",
    "    3. [Matplotlib (Plotting)](#plot)\n",
    "    4. [pdb (Debugging)](#pdb)\n",
    "    5. [Other Useful Libraries](#oul)"
   ]
  },
  {
   "cell_type": "markdown",
   "metadata": {},
   "source": [
    "# Basic Topics"
   ]
  },
  {
   "cell_type": "markdown",
   "metadata": {},
   "source": [
    "### Basic Syntax <a class=\"anchor\" id=\"basic-syntax\"></a>"
   ]
  },
  {
   "cell_type": "markdown",
   "metadata": {},
   "source": [
    "###### Hello World!"
   ]
  },
  {
   "cell_type": "code",
   "execution_count": 1,
   "metadata": {},
   "outputs": [
    {
     "name": "stdout",
     "output_type": "stream",
     "text": [
      "Hello World!\n"
     ]
    }
   ],
   "source": [
    "#A basic print statement to display given message\n",
    "print(\"Hello World!\")"
   ]
  },
  {
   "cell_type": "markdown",
   "metadata": {},
   "source": [
    "##### Basic Operations"
   ]
  },
  {
   "cell_type": "code",
   "execution_count": 57,
   "metadata": {},
   "outputs": [
    {
     "data": {
      "text/plain": [
       "12"
      ]
     },
     "execution_count": 57,
     "metadata": {},
     "output_type": "execute_result"
    }
   ],
   "source": [
    "#Addition\n",
    "2 + 10"
   ]
  },
  {
   "cell_type": "code",
   "execution_count": 60,
   "metadata": {},
   "outputs": [
    {
     "data": {
      "text/plain": [
       "-8"
      ]
     },
     "execution_count": 60,
     "metadata": {},
     "output_type": "execute_result"
    }
   ],
   "source": [
    "#Subtraction\n",
    "2 - 10"
   ]
  },
  {
   "cell_type": "code",
   "execution_count": 61,
   "metadata": {},
   "outputs": [
    {
     "data": {
      "text/plain": [
       "20"
      ]
     },
     "execution_count": 61,
     "metadata": {},
     "output_type": "execute_result"
    }
   ],
   "source": [
    "#Multiplication\n",
    "2*10"
   ]
  },
  {
   "cell_type": "code",
   "execution_count": 62,
   "metadata": {},
   "outputs": [
    {
     "data": {
      "text/plain": [
       "1.5"
      ]
     },
     "execution_count": 62,
     "metadata": {},
     "output_type": "execute_result"
    }
   ],
   "source": [
    "#Division\n",
    "3/2"
   ]
  },
  {
   "cell_type": "code",
   "execution_count": 63,
   "metadata": {},
   "outputs": [
    {
     "data": {
      "text/plain": [
       "1"
      ]
     },
     "execution_count": 63,
     "metadata": {},
     "output_type": "execute_result"
    }
   ],
   "source": [
    "#Integer division\n",
    "3//2"
   ]
  },
  {
   "cell_type": "code",
   "execution_count": 58,
   "metadata": {},
   "outputs": [
    {
     "data": {
      "text/plain": [
       "1000"
      ]
     },
     "execution_count": 58,
     "metadata": {},
     "output_type": "execute_result"
    }
   ],
   "source": [
    "#Raising to a power\n",
    "10**3"
   ]
  },
  {
   "cell_type": "code",
   "execution_count": 59,
   "metadata": {},
   "outputs": [
    {
     "data": {
      "text/plain": [
       "10000.0"
      ]
     },
     "execution_count": 59,
     "metadata": {},
     "output_type": "execute_result"
    }
   ],
   "source": [
    "#Exponentiating - not the same as 10^3\n",
    "10e3"
   ]
  },
  {
   "cell_type": "markdown",
   "metadata": {},
   "source": [
    "##### Defining Variables\n",
    "You can define variables as `variable_name = value`\n",
    "- Variable names can be alphanumeric though it can't start with a number.\n",
    "- Variable names are case sensitive\n",
    "- The values that you assign to a variable will typically be of these 5 standard data types (In python, you can assign almost anything to a variable and not have to declare what type of variable it is)\n",
    "    - Numbers (floats, integers, complex etc)\n",
    "    - Strings*\n",
    "    - List*\n",
    "    - Tuple*\n",
    "    - Dictionary*  \n",
    "    *Discussed in a later section. Will only show how to define them in this section."
   ]
  },
  {
   "cell_type": "code",
   "execution_count": 10,
   "metadata": {},
   "outputs": [],
   "source": [
    "#Numbers\n",
    "my_num = 5113  #Example of defining an integer\n",
    "my_float = 3.0 #Example of defining a float\n",
    "\n",
    "#Strings\n",
    "truth = \"This crash course is just the tip of the iceberg o_O\"\n",
    "\n",
    "#Lists\n",
    "same_type_list = [1,2,3,4,5] #A simple list of same type of objects - integers\n",
    "mixed_list = [1,2,\"three\", my_num, same_type_list] #A list containing many type of objects - integer, string, variable, another list\n",
    "\n",
    "#Dictionary\n",
    "simple_dict = {\"red\": 1, \"blue\":2, \"green\":3} #Similar to a list but enclosed in curly braces {} and consists of key-value pairs\n",
    "\n",
    "#Tuple\n",
    "aTuple = (1,2,3) #Similar to a list but enclosed in parenthesis ()"
   ]
  },
  {
   "cell_type": "markdown",
   "metadata": {},
   "source": [
    "##### More print statements\n",
    "Now we're going to print the variables we defined in the previous cell and look at some more ways to use the print statement"
   ]
  },
  {
   "cell_type": "code",
   "execution_count": 3,
   "metadata": {},
   "outputs": [
    {
     "name": "stdout",
     "output_type": "stream",
     "text": [
      "3.0\n"
     ]
    }
   ],
   "source": [
    "#printing a variable\n",
    "print(my_float)"
   ]
  },
  {
   "cell_type": "code",
   "execution_count": 11,
   "metadata": {},
   "outputs": [
    {
     "name": "stdout",
     "output_type": "stream",
     "text": [
      "This crash course is just the tip of the iceberg o_O\n"
     ]
    }
   ],
   "source": [
    "#printing the truth!\n",
    "print(truth)"
   ]
  },
  {
   "cell_type": "code",
   "execution_count": 4,
   "metadata": {
    "scrolled": true
   },
   "outputs": [
    {
     "name": "stdout",
     "output_type": "stream",
     "text": [
      "{'red': 1, 'blue': 2, 'green': 3}\n"
     ]
    }
   ],
   "source": [
    "print(simple_dict)"
   ]
  },
  {
   "cell_type": "code",
   "execution_count": 8,
   "metadata": {},
   "outputs": [
    {
     "name": "stdout",
     "output_type": "stream",
     "text": [
      "[1, 2, 'three', 5113, [1, 2, 3, 4, 5]]\n"
     ]
    }
   ],
   "source": [
    "print(mixed_list) #Notice how the 4th & 5th objects got the value of the variables we defined earlier"
   ]
  },
  {
   "cell_type": "code",
   "execution_count": 12,
   "metadata": {},
   "outputs": [
    {
     "name": "stdout",
     "output_type": "stream",
     "text": [
      "This is DSA 5113\n"
     ]
    }
   ],
   "source": [
    "#Dynamic printing\n",
    "print(\"This is DSA {}\".format(my_num)) #The value/variable given inside format replaces the curly braces in the string"
   ]
  },
  {
   "cell_type": "code",
   "execution_count": 15,
   "metadata": {},
   "outputs": [
    {
     "name": "stdout",
     "output_type": "stream",
     "text": [
      "Value of pi up to 4 decimal places = 3.1416\n"
     ]
    }
   ],
   "source": [
    "#When the dynamically set part is a number, we can set the precision\n",
    "print(\"Value of pi up to 4 decimal places = {:.4f}\".format(3.141592653589793238)) "
   ]
  },
  {
   "cell_type": "markdown",
   "metadata": {},
   "source": [
    "###### Variable Type & Conversion\n",
    "Every variable has a type (int, float, string, list, etc) and some of them can be converted into certain types"
   ]
  },
  {
   "cell_type": "code",
   "execution_count": 16,
   "metadata": {},
   "outputs": [
    {
     "data": {
      "text/plain": [
       "float"
      ]
     },
     "execution_count": 16,
     "metadata": {},
     "output_type": "execute_result"
    }
   ],
   "source": [
    "#Finding out the type of a variable\n",
    "type(my_float)"
   ]
  },
  {
   "cell_type": "code",
   "execution_count": 17,
   "metadata": {},
   "outputs": [
    {
     "name": "stdout",
     "output_type": "stream",
     "text": [
      "<class 'int'> <class 'dict'> <class 'str'> <class 'list'>\n"
     ]
    }
   ],
   "source": [
    "#printing the types of some other variables\n",
    "print(type(my_num), type(simple_dict), type(truth), type(mixed_list))"
   ]
  },
  {
   "cell_type": "code",
   "execution_count": 18,
   "metadata": {},
   "outputs": [
    {
     "data": {
      "text/plain": [
       "'3.0'"
      ]
     },
     "execution_count": 18,
     "metadata": {},
     "output_type": "execute_result"
    }
   ],
   "source": [
    "#Converting anything to string\n",
    "str(my_float)"
   ]
  },
  {
   "cell_type": "code",
   "execution_count": 19,
   "metadata": {},
   "outputs": [
    {
     "data": {
      "text/plain": [
       "\"{'red': 1, 'blue': 2, 'green': 3}\""
      ]
     },
     "execution_count": 19,
     "metadata": {},
     "output_type": "execute_result"
    }
   ],
   "source": [
    "str(simple_dict)"
   ]
  },
  {
   "cell_type": "code",
   "execution_count": 20,
   "metadata": {},
   "outputs": [
    {
     "data": {
      "text/plain": [
       "\"[1, 2, 'three', 5113, [1, 2, 3, 4, 5]]\""
      ]
     },
     "execution_count": 20,
     "metadata": {},
     "output_type": "execute_result"
    }
   ],
   "source": [
    "str(mixed_list)"
   ]
  },
  {
   "cell_type": "code",
   "execution_count": 21,
   "metadata": {},
   "outputs": [
    {
     "data": {
      "text/plain": [
       "3"
      ]
     },
     "execution_count": 21,
     "metadata": {},
     "output_type": "execute_result"
    }
   ],
   "source": [
    "#converting string to number\n",
    "three = \"3\"\n",
    "int(three)"
   ]
  },
  {
   "cell_type": "code",
   "execution_count": 22,
   "metadata": {},
   "outputs": [
    {
     "data": {
      "text/plain": [
       "3.0"
      ]
     },
     "execution_count": 22,
     "metadata": {},
     "output_type": "execute_result"
    }
   ],
   "source": [
    "float(three)"
   ]
  },
  {
   "cell_type": "code",
   "execution_count": 25,
   "metadata": {},
   "outputs": [
    {
     "data": {
      "text/plain": [
       "[1, 2, 3]"
      ]
     },
     "execution_count": 25,
     "metadata": {},
     "output_type": "execute_result"
    }
   ],
   "source": [
    "#Converting tuple to a list\n",
    "list(aTuple)"
   ]
  },
  {
   "cell_type": "code",
   "execution_count": 27,
   "metadata": {},
   "outputs": [
    {
     "data": {
      "text/plain": [
       "(1, 2, 3, 4, 5)"
      ]
     },
     "execution_count": 27,
     "metadata": {},
     "output_type": "execute_result"
    }
   ],
   "source": [
    "#Converting list to a tuple\n",
    "tuple(same_type_list)"
   ]
  },
  {
   "cell_type": "markdown",
   "metadata": {},
   "source": [
    "### Lists <a class=\"anchor\" id=\"lists\"></a>"
   ]
  },
  {
   "cell_type": "markdown",
   "metadata": {},
   "source": [
    "A versatile datatype that can be thought of as a collection of comma-seperated values.  \n",
    "Each item in a list has an index. The indices start with 0.  \n",
    "The items in a list doesn't need to be of the same type  "
   ]
  },
  {
   "cell_type": "code",
   "execution_count": 70,
   "metadata": {},
   "outputs": [
    {
     "name": "stdout",
     "output_type": "stream",
     "text": [
      "[2, 4, 6, 8, 10, 12, 14, 16, 18, 20, 22, 24, 26, 28, 30, 32, 34, 36, 38, 40, 42, 44, 46, 48]\n"
     ]
    }
   ],
   "source": [
    "#Defining some lists\n",
    "l1 = [1,2,3,4,5,6]\n",
    "l2 = [\"a\", \"b\", \"c\", \"d\"]\n",
    "l3 = list(range(2,50,2)) #Creates a list going from 2 up to and not including 50 in increments of 2\n",
    "print(l3) #displaying l3"
   ]
  },
  {
   "cell_type": "code",
   "execution_count": 33,
   "metadata": {},
   "outputs": [
    {
     "data": {
      "text/plain": [
       "6"
      ]
     },
     "execution_count": 33,
     "metadata": {},
     "output_type": "execute_result"
    }
   ],
   "source": [
    "#Length of a list \n",
    "#The len command gives the size of the list i.e. the total number of items\n",
    "len(l1)"
   ]
  },
  {
   "cell_type": "code",
   "execution_count": 34,
   "metadata": {},
   "outputs": [
    {
     "data": {
      "text/plain": [
       "4"
      ]
     },
     "execution_count": 34,
     "metadata": {},
     "output_type": "execute_result"
    }
   ],
   "source": [
    "len(l2)"
   ]
  },
  {
   "cell_type": "markdown",
   "metadata": {},
   "source": [
    "**Accessing list items** \n",
    "List items can be accessed using their index.  \n",
    "The first item has an index of 0, the next one has 1 and so on"
   ]
  },
  {
   "cell_type": "code",
   "execution_count": 32,
   "metadata": {},
   "outputs": [
    {
     "name": "stdout",
     "output_type": "stream",
     "text": [
      "First item of l2: a\n",
      "Third item of l1: 3\n"
     ]
    }
   ],
   "source": [
    "#First item of l2 is \"a\" and third item of l1 is 3\n",
    "print(\"First item of l2: {}\".format(l2[0])) # l2[0] accesses the item at 0th index of l2\n",
    "print(\"Third item of l1: {}\".format(l1[2])) # l1[0] accesses the item at 2nd index of l1"
   ]
  },
  {
   "cell_type": "markdown",
   "metadata": {},
   "source": [
    "**Indexing in reverse** List items can be accessed in reversed order using negative indices.  \n",
    "The last item canbe accessed with -1, second from last with -2 and so on"
   ]
  },
  {
   "cell_type": "code",
   "execution_count": 36,
   "metadata": {
    "scrolled": true
   },
   "outputs": [
    {
     "name": "stdout",
     "output_type": "stream",
     "text": [
      "Last item of l3: 48\n",
      "Third to last item of l1: 4\n"
     ]
    }
   ],
   "source": [
    "print(\"Last item of l3: {}\".format(l3[-1])) \n",
    "print(\"Third to last item of l1: {}\".format(l1[-3]))"
   ]
  },
  {
   "cell_type": "markdown",
   "metadata": {},
   "source": [
    "**Slicing**  \n",
    "Portions of a list can be chosen using some or all of 3 numbers - starting index, stopping index and increment  \n",
    "The syntax is `list_name[start:stop:increment]`"
   ]
  },
  {
   "cell_type": "code",
   "execution_count": 38,
   "metadata": {},
   "outputs": [
    {
     "data": {
      "text/plain": [
       "[2, 3, 4]"
      ]
     },
     "execution_count": 38,
     "metadata": {},
     "output_type": "execute_result"
    }
   ],
   "source": [
    "#If I want 2,3,4 from list l1, I want to start from index 1 and end at index 3\n",
    "#The stopping indes is not included so we choose 3+1=4 as stopping index\n",
    "l1[1:4]"
   ]
  },
  {
   "cell_type": "code",
   "execution_count": 41,
   "metadata": {},
   "outputs": [
    {
     "data": {
      "text/plain": [
       "[2, 4, 6]"
      ]
     },
     "execution_count": 41,
     "metadata": {},
     "output_type": "execute_result"
    }
   ],
   "source": [
    "#In this example we chose items from idex 1 up to index 5, skipping an item every time (increment of 2)\n",
    "l1[1:6:2]"
   ]
  },
  {
   "cell_type": "code",
   "execution_count": 42,
   "metadata": {},
   "outputs": [
    {
     "data": {
      "text/plain": [
       "[3, 4, 5, 6]"
      ]
     },
     "execution_count": 42,
     "metadata": {},
     "output_type": "execute_result"
    }
   ],
   "source": [
    "#If we just indicate starting index, everything after that is kept\n",
    "l1[2:]"
   ]
  },
  {
   "cell_type": "code",
   "execution_count": 44,
   "metadata": {},
   "outputs": [
    {
     "data": {
      "text/plain": [
       "[1, 2, 3, 4]"
      ]
     },
     "execution_count": 44,
     "metadata": {},
     "output_type": "execute_result"
    }
   ],
   "source": [
    "#If we just indicate stopping index, everything up to that is kept\n",
    "l1[:4]"
   ]
  },
  {
   "cell_type": "code",
   "execution_count": 46,
   "metadata": {},
   "outputs": [
    {
     "data": {
      "text/plain": [
       "[1, 2, 3, 4]"
      ]
     },
     "execution_count": 46,
     "metadata": {},
     "output_type": "execute_result"
    }
   ],
   "source": [
    "#Using reverse index\n",
    "l1[:-2] #Everything except for the last 2 items"
   ]
  },
  {
   "cell_type": "markdown",
   "metadata": {},
   "source": [
    "##### List operations"
   ]
  },
  {
   "cell_type": "code",
   "execution_count": 50,
   "metadata": {},
   "outputs": [
    {
     "data": {
      "text/plain": [
       "[1, 2, 3, 4, 5, 6, 'a', 'b', 'c', 'd']"
      ]
     },
     "execution_count": 50,
     "metadata": {},
     "output_type": "execute_result"
    }
   ],
   "source": [
    "#\"adding\" two lists results in concatenation\n",
    "l4 = l1 + l2\n",
    "l4"
   ]
  },
  {
   "cell_type": "code",
   "execution_count": 51,
   "metadata": {},
   "outputs": [
    {
     "data": {
      "text/plain": [
       "['hello', 'hello', 'hello', 'hello', 'hello']"
      ]
     },
     "execution_count": 51,
     "metadata": {},
     "output_type": "execute_result"
    }
   ],
   "source": [
    "#Multiplying a list by a scalar results in repetition\n",
    "[\"hello\"]*5"
   ]
  },
  {
   "cell_type": "code",
   "execution_count": 52,
   "metadata": {},
   "outputs": [
    {
     "data": {
      "text/plain": [
       "['a', 'b', 'c', 'd', 'a', 'b', 'c', 'd', 'a', 'b', 'c', 'd']"
      ]
     },
     "execution_count": 52,
     "metadata": {},
     "output_type": "execute_result"
    }
   ],
   "source": [
    "l2*3"
   ]
  },
  {
   "cell_type": "code",
   "execution_count": 53,
   "metadata": {},
   "outputs": [
    {
     "data": {
      "text/plain": [
       "[2, 2, 2, 2, 2, 2, 2]"
      ]
     },
     "execution_count": 53,
     "metadata": {},
     "output_type": "execute_result"
    }
   ],
   "source": [
    "[2]*7"
   ]
  },
  {
   "cell_type": "markdown",
   "metadata": {},
   "source": [
    "##### Some other popular list manipulation functions"
   ]
  },
  {
   "cell_type": "code",
   "execution_count": 71,
   "metadata": {},
   "outputs": [
    {
     "data": {
      "text/plain": [
       "['a', 'b', 'c', 'd', 'e']"
      ]
     },
     "execution_count": 71,
     "metadata": {},
     "output_type": "execute_result"
    }
   ],
   "source": [
    "#Appending to the end of an existing string\n",
    "l2.append(\"e\")\n",
    "l2"
   ]
  },
  {
   "cell_type": "code",
   "execution_count": 72,
   "metadata": {},
   "outputs": [
    {
     "data": {
      "text/plain": [
       "['a', 'b', 'f', 'c', 'd', 'e']"
      ]
     },
     "execution_count": 72,
     "metadata": {},
     "output_type": "execute_result"
    }
   ],
   "source": [
    "#Insert an item at a particular index - list_name(index, value)\n",
    "l2.insert(2,\"f\")\n",
    "l2"
   ]
  },
  {
   "cell_type": "code",
   "execution_count": 74,
   "metadata": {},
   "outputs": [
    {
     "data": {
      "text/plain": [
       "['a', 'b', 'c', 'd', 'e', 'f']"
      ]
     },
     "execution_count": 74,
     "metadata": {},
     "output_type": "execute_result"
    }
   ],
   "source": [
    "#sorting a list\n",
    "l2.sort()\n",
    "l2"
   ]
  },
  {
   "cell_type": "code",
   "execution_count": 75,
   "metadata": {},
   "outputs": [
    {
     "data": {
      "text/plain": [
       "[1, 2, 3, 5, 6, 'a', 'b', 'c', 'd']"
      ]
     },
     "execution_count": 75,
     "metadata": {},
     "output_type": "execute_result"
    }
   ],
   "source": [
    "#removes item by index and returns the removed item\n",
    "l4.pop(3) #remove the item at index 3\n",
    "l4"
   ]
  },
  {
   "cell_type": "code",
   "execution_count": 76,
   "metadata": {},
   "outputs": [
    {
     "data": {
      "text/plain": [
       "[1, 2, 3, 5, 6, 'b', 'c', 'd']"
      ]
     },
     "execution_count": 76,
     "metadata": {},
     "output_type": "execute_result"
    }
   ],
   "source": [
    "#remove item by matching value\n",
    "l4.remove(\"a\")\n",
    "l4"
   ]
  },
  {
   "cell_type": "code",
   "execution_count": 66,
   "metadata": {},
   "outputs": [
    {
     "data": {
      "text/plain": [
       "48"
      ]
     },
     "execution_count": 66,
     "metadata": {},
     "output_type": "execute_result"
    }
   ],
   "source": [
    "#maximum or minimum value of a list\n",
    "max(l3)\n",
    "#min(l3) for minimum"
   ]
  },
  {
   "cell_type": "markdown",
   "metadata": {},
   "source": [
    "### String Manipulation <a class=\"anchor\" id=\"string\"></a> "
   ]
  },
  {
   "cell_type": "markdown",
   "metadata": {},
   "source": [
    "Strings are values enclosed in single quotes (' ') or double quotes (\" \")  \n",
    "These are characters or a series of characters and can be manipulated in very similar way to lists, though they have their own special functions  "
   ]
  },
  {
   "cell_type": "code",
   "execution_count": 91,
   "metadata": {},
   "outputs": [],
   "source": [
    "#Defining some strings\n",
    "str1 = \"I hear Rafia is a harsh grader\"\n",
    "str2 = \"NO NEED TO SHOUT\"\n",
    "str3 = \"fine, no caps lock\""
   ]
  },
  {
   "cell_type": "markdown",
   "metadata": {},
   "source": [
    "**Accessing & Slicing**"
   ]
  },
  {
   "cell_type": "code",
   "execution_count": 82,
   "metadata": {},
   "outputs": [
    {
     "name": "stdout",
     "output_type": "stream",
     "text": [
      "I hear Rafia\n",
      "I\n",
      "SHOUT\n",
      "no caps\n"
     ]
    }
   ],
   "source": [
    "#Very similar to lists\n",
    "print(str1[:12]) #Takes the 1st 10 characters\n",
    "print(str1[0]) #Accesses the first character\n",
    "print(str2[-5:]) #Takes last 5 characters\n",
    "print(str3[6:13]) #Takes 6 through 9"
   ]
  },
  {
   "cell_type": "markdown",
   "metadata": {},
   "source": [
    "**Other popular string manipulation functions**"
   ]
  },
  {
   "cell_type": "code",
   "execution_count": 83,
   "metadata": {},
   "outputs": [
    {
     "name": "stdout",
     "output_type": "stream",
     "text": [
      "['I', 'hear', 'Rafia', 'is', 'a', 'harsh', 'grader']\n",
      "['NO', 'NEED', 'TO', 'SHOUT']\n",
      "['fine', ' no caps lock']\n"
     ]
    }
   ],
   "source": [
    "#Splitting a string based on a sperator - str_name.split(separator)\n",
    "print(str1.split(\" \")) #separating based on space\n",
    "print(str2.split()) #If no argument is given to split, default separator is space\n",
    "print(str3.split(\",\")) #separating based on space"
   ]
  },
  {
   "cell_type": "code",
   "execution_count": 93,
   "metadata": {},
   "outputs": [
    {
     "name": "stdout",
     "output_type": "stream",
     "text": [
      "no need to shout\n",
      "FINE, NO CAPS LOCK\n",
      "Fine, no caps lock\n",
      "rED\n"
     ]
    }
   ],
   "source": [
    "#Changing case\n",
    "print(str2.lower()) #All lower case\n",
    "print(str3.upper()) #All upper case\n",
    "print(str3.capitalize()) #Only first letter upper case\n",
    "print(\"Red\".swapcase()) #swaps cases"
   ]
  },
  {
   "cell_type": "code",
   "execution_count": 89,
   "metadata": {},
   "outputs": [
    {
     "data": {
      "text/plain": [
       "'I hear Rafia is a good grader'"
      ]
     },
     "execution_count": 89,
     "metadata": {},
     "output_type": "execute_result"
    }
   ],
   "source": [
    "#Replace characters by given string\n",
    "str1.replace(\"harsh\", \"good\")"
   ]
  },
  {
   "cell_type": "code",
   "execution_count": 90,
   "metadata": {},
   "outputs": [
    {
     "data": {
      "text/plain": [
       "7"
      ]
     },
     "execution_count": 90,
     "metadata": {},
     "output_type": "execute_result"
    }
   ],
   "source": [
    "#Find a given pattern in a string\n",
    "str1.find(\"Rafia\") #Returns the index of where the pattern is found"
   ]
  },
  {
   "cell_type": "code",
   "execution_count": 85,
   "metadata": {},
   "outputs": [
    {
     "name": "stdout",
     "output_type": "stream",
     "text": [
      "NO NEED TO SHOUT  --  fine, no caps lock\n",
      "Strings can be anything, like 12345 is a string\n"
     ]
    }
   ],
   "source": [
    "#Concatenating and formating string\n",
    "print(str2 + \"  --  \" + str3) #adding string concatenates them\n",
    "str4 = \"Strings can be anything, like {} is a string\".format(12345)\n",
    "print(str4)"
   ]
  },
  {
   "cell_type": "code",
   "execution_count": 86,
   "metadata": {},
   "outputs": [
    {
     "data": {
      "text/plain": [
       "'HiHiHiHi'"
      ]
     },
     "execution_count": 86,
     "metadata": {},
     "output_type": "execute_result"
    }
   ],
   "source": [
    "#Like lists, we can multiply to repeat\n",
    "\"Hi\"*4"
   ]
  },
  {
   "cell_type": "code",
   "execution_count": 87,
   "metadata": {},
   "outputs": [
    {
     "data": {
      "text/plain": [
       "6"
      ]
     },
     "execution_count": 87,
     "metadata": {},
     "output_type": "execute_result"
    }
   ],
   "source": [
    "#Like lists, we can use len command to find the size of a string\n",
    "len(\"apples\")"
   ]
  },
  {
   "cell_type": "markdown",
   "metadata": {},
   "source": [
    "**Special Characters**"
   ]
  },
  {
   "cell_type": "code",
   "execution_count": 94,
   "metadata": {},
   "outputs": [
    {
     "name": "stdout",
     "output_type": "stream",
     "text": [
      "This is making \n",
      " a new line\n",
      "This just inserts \t a tab\n"
     ]
    }
   ],
   "source": [
    "#\\n makes a new line\n",
    "print(\"This is making \\n a new line\")\n",
    "#\\t inserts a tab\n",
    "print(\"This just inserts \\t a tab\")"
   ]
  },
  {
   "cell_type": "markdown",
   "metadata": {},
   "source": [
    "### If Statement <a class=\"anchor\" id=\"if\"></a>"
   ]
  },
  {
   "cell_type": "markdown",
   "metadata": {},
   "source": [
    "Executing blockes of code based on whether or not a given condition is true  \n",
    "The syntax is -\n",
    "```python\n",
    "if (condition):\n",
    "    Do somthing\n",
    "elif (condition):\n",
    "    Do some other thing\n",
    "else:\n",
    "    Do somet other thing\n",
    "```  \n",
    "Only one block will execute - the condition that returns true first  \n",
    "You can use as many elif blocks as needed"
   ]
  },
  {
   "cell_type": "code",
   "execution_count": 99,
   "metadata": {},
   "outputs": [
    {
     "name": "stdout",
     "output_type": "stream",
     "text": [
      "Yes c is in l2\n",
      "But now it's removed. Here's the new list\n",
      "['a', 'b', 'd', 'e', 'f']\n"
     ]
    }
   ],
   "source": [
    "if (\"c\" in l2):\n",
    "    print(\"Yes c is in l2\")\n",
    "    l2.remove(\"c\")\n",
    "    print(\"But now it's removed. Here's the new list\")\n",
    "    print(l2)"
   ]
  },
  {
   "cell_type": "code",
   "execution_count": 95,
   "metadata": {},
   "outputs": [],
   "source": [
    "a = 5 #defining a variable"
   ]
  },
  {
   "cell_type": "code",
   "execution_count": 96,
   "metadata": {},
   "outputs": [
    {
     "name": "stdout",
     "output_type": "stream",
     "text": [
      "a is less than 10\n"
     ]
    }
   ],
   "source": [
    "if (a>10):\n",
    "    print(\"a is greater than 10\")\n",
    "else:\n",
    "    print(\"a is less than 10\")"
   ]
  },
  {
   "cell_type": "code",
   "execution_count": 97,
   "metadata": {},
   "outputs": [
    {
     "name": "stdout",
     "output_type": "stream",
     "text": [
      "a is equal to 5\n"
     ]
    }
   ],
   "source": [
    "if (a>5):\n",
    "    print(\"a is greater than 5\")\n",
    "elif (a<5):\n",
    "    print(\"a is less than 5\")\n",
    "else:\n",
    "    print(\"a is equal to 5\")"
   ]
  },
  {
   "cell_type": "code",
   "execution_count": 101,
   "metadata": {},
   "outputs": [
    {
     "name": "stdout",
     "output_type": "stream",
     "text": [
      "b = yes, c = 0\n"
     ]
    }
   ],
   "source": [
    "# assigning a value to variable using if statement\n",
    "str5 = \"This is a great class\"\n",
    "b = \"yes\" if \"great\" in str5 else \"no\" #if great is in str5, b will get a value of yes, otherwise it will be no\n",
    "c = 1 if a>10 else 0 #if the variable a is greater than 10, c will be 1, otherwise 0\n",
    "print(\"b = {}, c = {}\".format(b,c))"
   ]
  },
  {
   "cell_type": "markdown",
   "metadata": {},
   "source": [
    "## Loops\n",
    "Loops are an essential tool in python that allows you to repeatedly excute a block of code given certain conditions or based on interating over a given list or array. There's two main types of loops in python - `For` and `While`. There's also `Do..While` loop in python by combinging the Do command and While command but I won't discuss that here."
   ]
  },
  {
   "cell_type": "markdown",
   "metadata": {},
   "source": [
    "### For Loop <a class=\"anchor\" id=\"for\"></a>"
   ]
  },
  {
   "cell_type": "markdown",
   "metadata": {},
   "source": [
    "For loops are useful when you want to iterate a certain number of times or when you want to iterate over a list or array type object  \n",
    "```python\n",
    "for i in list_name:\n",
    "    do something\n",
    "```"
   ]
  },
  {
   "cell_type": "code",
   "execution_count": 102,
   "metadata": {},
   "outputs": [
    {
     "name": "stdout",
     "output_type": "stream",
     "text": [
      "Multiply 0 by 5 gives 0\n",
      "Multiply 1 by 5 gives 5\n",
      "Multiply 2 by 5 gives 10\n",
      "Multiply 3 by 5 gives 15\n",
      "Multiply 4 by 5 gives 20\n",
      "Multiply 5 by 5 gives 25\n",
      "Multiply 6 by 5 gives 30\n",
      "Multiply 7 by 5 gives 35\n",
      "Multiply 8 by 5 gives 40\n",
      "Multiply 9 by 5 gives 45\n"
     ]
    }
   ],
   "source": [
    "#Looping a certain number of time\n",
    "for i in range(10):   #iterating over a list going from 0 to 9\n",
    "    a = i*5\n",
    "    print(\"Multiply {} by 5 gives {}\".format(i, a))"
   ]
  },
  {
   "cell_type": "code",
   "execution_count": 109,
   "metadata": {},
   "outputs": [
    {
     "name": "stdout",
     "output_type": "stream",
     "text": [
      "1 - <class 'str'>\n",
      "2 - <class 'str'>\n",
      "3 - <class 'str'>\n",
      "5 - <class 'str'>\n",
      "6 - <class 'str'>\n",
      "b - <class 'str'>\n",
      "c - <class 'str'>\n",
      "d - <class 'str'>\n"
     ]
    }
   ],
   "source": [
    "#Looping over a list\n",
    "for item in l4:\n",
    "    str_item = str(item)\n",
    "    print(\"{} - {}\".format(str_item, type(str_item)))"
   ]
  },
  {
   "cell_type": "markdown",
   "metadata": {},
   "source": [
    "**Loop Control Statements** You can control the execution of a loop using 3 statements -  \n",
    "- `break` : This breaks out of a loop and moves on to the next segment of your code\n",
    "- `continue` : This skips any code below it (inside the loop) and moves on to the next iteration\n",
    "- `pass` : It's used when a statement is required syntactically but you don't want any code to execute"
   ]
  },
  {
   "cell_type": "markdown",
   "metadata": {},
   "source": [
    "Demonstrating `break`"
   ]
  },
  {
   "cell_type": "code",
   "execution_count": 110,
   "metadata": {},
   "outputs": [
    {
     "data": {
      "text/plain": [
       "[1, 2, 3, 5, 6, 'b', 'c', 'd']"
      ]
     },
     "execution_count": 110,
     "metadata": {},
     "output_type": "execute_result"
    }
   ],
   "source": [
    "#l4 is a list that contains both integers and numbers\n",
    "l4"
   ]
  },
  {
   "cell_type": "markdown",
   "metadata": {},
   "source": [
    "So if you try to add numbers to the string elements, you'll get an error.  \n",
    "To avoid it when iterating over this list, you can insert a break statement in your loop so that your code breaks out of the loop when it encounters a string."
   ]
  },
  {
   "cell_type": "code",
   "execution_count": 112,
   "metadata": {},
   "outputs": [
    {
     "name": "stdout",
     "output_type": "stream",
     "text": [
      "Added 10 to list item 1 to get 11\n",
      "Added 10 to list item 2 to get 12\n",
      "Added 10 to list item 3 to get 13\n",
      "Added 10 to list item 5 to get 15\n",
      "Added 10 to list item 6 to get 16\n",
      "Encountered a string, breaking out of the loop\n"
     ]
    }
   ],
   "source": [
    "for i in l4:\n",
    "    if type(i)==str:\n",
    "        print(\"Encountered a string, breaking out of the loop\")\n",
    "        break\n",
    "    tmp = i+10\n",
    "    print(\"Added 10 to list item {} to get {}\".format(i, tmp))"
   ]
  },
  {
   "cell_type": "markdown",
   "metadata": {},
   "source": [
    "Demonstrating `continue`"
   ]
  },
  {
   "cell_type": "markdown",
   "metadata": {},
   "source": [
    "But now, with the `break` statement, it breaks out of the loop any time it encounters string element. If the next element after a string element is an integer, we're missing out on it.  \n",
    "  \n",
    "That is where the continue statment comes in. If you use `continue` instead of `break` then, instead of breaking out of the loop, you just skip the current iteration and move to the next one. i.e. you move on to the next element and check again whether it's a string or not and so on.."
   ]
  },
  {
   "cell_type": "code",
   "execution_count": 113,
   "metadata": {},
   "outputs": [
    {
     "name": "stdout",
     "output_type": "stream",
     "text": [
      "Added 10 to list item 1 to get 11\n",
      "Added 10 to list item 2 to get 12\n",
      "Added 10 to list item 3 to get 13\n",
      "Added 10 to list item 5 to get 15\n",
      "Added 10 to list item 6 to get 16\n",
      "Encountered a string, moving on to the next element\n",
      "Encountered a string, moving on to the next element\n",
      "Encountered a string, moving on to the next element\n"
     ]
    }
   ],
   "source": [
    "for i in l4:\n",
    "    if type(i)==str:\n",
    "        print(\"Encountered a string, moving on to the next element\")\n",
    "        continue\n",
    "    tmp = i+10\n",
    "    print(\"Added 10 to list item {} to get {}\".format(i, tmp))"
   ]
  },
  {
   "cell_type": "markdown",
   "metadata": {},
   "source": [
    "Demonstrating `pass`"
   ]
  },
  {
   "cell_type": "markdown",
   "metadata": {},
   "source": [
    "`pass` is more of a placeholder. If you start a loop, you are bound by syntax to write at least one statement inside it. If you don't want to write anything yet, you can use a `pass` statement to avoid getting an error"
   ]
  },
  {
   "cell_type": "code",
   "execution_count": 116,
   "metadata": {},
   "outputs": [],
   "source": [
    "for i in l4:\n",
    "    pass"
   ]
  },
  {
   "cell_type": "markdown",
   "metadata": {},
   "source": [
    "**Popular functions related to loops** There's a lot of usefull functions in python that work well with loops e.g. (range, unpack(*), tuple, split etc.) But there are two very important ones that go hand-in-hand with loops - `zip` & `enumerate` - so these are the ones I'm discussing here.\n",
    "\n",
    "- `zip` : Used when you want to iterate over two lists of equal length (If the length are not equal, it only iterates up to the length of the shorter list)\n",
    "- `enumerate` : Used when you want the index of the list item you're iterating over"
   ]
  },
  {
   "cell_type": "code",
   "execution_count": 119,
   "metadata": {},
   "outputs": [
    {
     "name": "stdout",
     "output_type": "stream",
     "text": [
      "6 24\n"
     ]
    }
   ],
   "source": [
    "print(len(l1), len(l3))"
   ]
  },
  {
   "cell_type": "code",
   "execution_count": 118,
   "metadata": {},
   "outputs": [
    {
     "name": "stdout",
     "output_type": "stream",
     "text": [
      "list 1 item is 1, corresponding list 3 item is 2\n",
      "list 1 item is 2, corresponding list 3 item is 4\n",
      "list 1 item is 3, corresponding list 3 item is 6\n",
      "list 1 item is 4, corresponding list 3 item is 8\n",
      "list 1 item is 5, corresponding list 3 item is 10\n",
      "list 1 item is 6, corresponding list 3 item is 12\n"
     ]
    }
   ],
   "source": [
    "for a, b in zip(l1, l3):\n",
    "    print(\"list 1 item is {}, corresponding list 3 item is {}\".format(a,b))"
   ]
  },
  {
   "cell_type": "code",
   "execution_count": 120,
   "metadata": {},
   "outputs": [
    {
     "name": "stdout",
     "output_type": "stream",
     "text": [
      "At index 0, list 1 item is 1, corresponding list 3 item is 2\n",
      "At index 1, list 1 item is 2, corresponding list 3 item is 4\n",
      "At index 2, list 1 item is 3, corresponding list 3 item is 6\n",
      "At index 3, list 1 item is 4, corresponding list 3 item is 8\n",
      "At index 4, list 1 item is 5, corresponding list 3 item is 10\n",
      "At index 5, list 1 item is 6, corresponding list 3 item is 12\n"
     ]
    }
   ],
   "source": [
    "for i, (a,b) in enumerate(zip(l1,l3)):\n",
    "    print(\"At index {}, list 1 item is {}, corresponding list 3 item is {}\".format(i, a, b))"
   ]
  },
  {
   "cell_type": "markdown",
   "metadata": {},
   "source": [
    "### While Loop <a class=\"anchor\" id=\"while\"></a>"
   ]
  },
  {
   "cell_type": "markdown",
   "metadata": {},
   "source": [
    "While loops are usefull when you want to iterate a code block **until** a certain condition is satified. While loops often need a counter variable that increments as the loop goes on.\n",
    "```python\n",
    "while (condition):\n",
    "    do something\n",
    "```"
   ]
  },
  {
   "cell_type": "code",
   "execution_count": 124,
   "metadata": {},
   "outputs": [
    {
     "name": "stdout",
     "output_type": "stream",
     "text": [
      "The counter is still positive and right now, it's 10\n",
      "The counter is still positive and right now, it's 9\n",
      "The counter is still positive and right now, it's 8\n",
      "The counter is still positive and right now, it's 7\n",
      "The counter is still positive and right now, it's 6\n",
      "The counter is still positive and right now, it's 5\n",
      "The counter is still positive and right now, it's 4\n",
      "The counter is still positive and right now, it's 3\n",
      "The counter is still positive and right now, it's 2\n",
      "The counter is still positive and right now, it's 1\n"
     ]
    }
   ],
   "source": [
    "counter = 10\n",
    "while counter>0:\n",
    "    print(\"The counter is still positive and right now, it's {}\".format(counter))\n",
    "    counter-= 1    #incrementing the counter, reducing it by 1 in every iteration"
   ]
  },
  {
   "cell_type": "markdown",
   "metadata": {},
   "source": [
    "`pass`, `break` and `continue` statements all work well with `while` loop. `zip` and `enumerate` doesn't usually pair with while since it doesn't iterate over list type objects"
   ]
  },
  {
   "cell_type": "markdown",
   "metadata": {},
   "source": [
    "### Function <a class=\"anchor\" id=\"func\"></a>"
   ]
  },
  {
   "cell_type": "markdown",
   "metadata": {},
   "source": [
    "In python, apart from using the built-in functions, you can define your own customized functions using the following syntax -\n",
    "\n",
    "```python\n",
    "def function_name(arg1, arg2):\n",
    "    value = do something using arg1 & arg2\n",
    "    return value\n",
    "    \n",
    "#calling your function\n",
    "function_name(value1, value2)\n",
    "```\n",
    "\n",
    "This is useful when you find yourself repeathing a block of code often."
   ]
  },
  {
   "cell_type": "code",
   "execution_count": 128,
   "metadata": {},
   "outputs": [],
   "source": [
    "#Defining the function\n",
    "def arithmatic_operations(num1, num2):\n",
    "    \"\"\"\n",
    "    A function to perform a series of arithmatic operations on num1 and num2\n",
    "    Returns the final result as an integer rounded up/down\n",
    "    \"\"\"\n",
    "    add = num1 + num2\n",
    "    mltply = add*num2\n",
    "    sbtrct = mltply - num2\n",
    "    divide = sbtrct/num2\n",
    "    result = round(divide)\n",
    "    \n",
    "    return result"
   ]
  },
  {
   "cell_type": "code",
   "execution_count": 130,
   "metadata": {},
   "outputs": [
    {
     "name": "stdout",
     "output_type": "stream",
     "text": [
      "Help on function ariethmatic_operations in module __main__:\n",
      "\n",
      "ariethmatic_operations(num1, num2)\n",
      "    A function to perform a series of ariethmatic operations on num1 and num2\n",
      "    Returns the final result as an integer rounded up/down\n",
      "\n"
     ]
    }
   ],
   "source": [
    "#Anything put inside a multi-line comment (\"\"\" \"\"\") inside a function, is called a doc-string. \n",
    "#You can describe your function inside \"\"\" \"\"\" and then retrieve this information by doing help(function_name)\n",
    "help(arithmatic_operations)"
   ]
  },
  {
   "cell_type": "code",
   "execution_count": 131,
   "metadata": {},
   "outputs": [
    {
     "data": {
      "text/plain": [
       "14"
      ]
     },
     "execution_count": 131,
     "metadata": {},
     "output_type": "execute_result"
    }
   ],
   "source": [
    "#Calling the function\n",
    "resA = arithmatic_operations(10, 5)\n",
    "resA"
   ]
  },
  {
   "cell_type": "code",
   "execution_count": 134,
   "metadata": {},
   "outputs": [
    {
     "data": {
      "text/plain": [
       "24"
      ]
     },
     "execution_count": 134,
     "metadata": {},
     "output_type": "execute_result"
    }
   ],
   "source": [
    "arithmatic_operations(10, 15)"
   ]
  },
  {
   "cell_type": "markdown",
   "metadata": {},
   "source": [
    "**Setting default values** You can use default argument in you parameter list to set default values or optional arguments  \n",
    "Default arguments are optional parameters for a function i.e. you can call the function without these parameters  \n",
    "```python\n",
    "def new_func(arg1, arg2, arg3=5):\n",
    "    result = arg1 + arg2 + arg3\n",
    "    return result\n",
    "```\n",
    "Here, arg3 is the optional argument because you've set it to a default value of 5. If you don't provide arg3 when you call this function, arg3 will assume a value of 5. If you don't provide arg1 or arg2, you'll get an error because they are required/positional arguments"
   ]
  },
  {
   "cell_type": "markdown",
   "metadata": {},
   "source": [
    "Now imagine if someone were to call the `arithmatic_operations` function using string arguments, they'd get an error - because you can't perform arithmatic operations on a string. In that case, we want to be able to convert the input to a number. Let's instroduce a keyword argument `convert` to handle such cases"
   ]
  },
  {
   "cell_type": "code",
   "execution_count": 138,
   "metadata": {},
   "outputs": [],
   "source": [
    "#Defining the function\n",
    "def new_arith(num1, num2, convert=False):\n",
    "    \"\"\"\n",
    "    A new function function that can handle even string arguments \n",
    "    \"\"\"\n",
    "    if convert!=False:\n",
    "        num1 = float(num1)\n",
    "        num2 = float(num2)\n",
    "        \n",
    "    add = num1 + num2\n",
    "    mltply = add*num2\n",
    "    sbtrct = mltply - num2\n",
    "    divide = sbtrct/num2\n",
    "    result = round(divide)\n",
    "    \n",
    "    return result"
   ]
  },
  {
   "cell_type": "code",
   "execution_count": 141,
   "metadata": {
    "scrolled": true
   },
   "outputs": [
    {
     "data": {
      "text/plain": [
       "14"
      ]
     },
     "execution_count": 141,
     "metadata": {},
     "output_type": "execute_result"
    }
   ],
   "source": [
    "#Handles numbers as usual\n",
    "#Function works fine even if we don't specify convert\n",
    "new_arith(10, 5)"
   ]
  },
  {
   "cell_type": "code",
   "execution_count": 139,
   "metadata": {},
   "outputs": [
    {
     "ename": "TypeError",
     "evalue": "can't multiply sequence by non-int of type 'str'",
     "output_type": "error",
     "traceback": [
      "\u001b[0;31m---------------------------------------------------------------------------\u001b[0m",
      "\u001b[0;31mTypeError\u001b[0m                                 Traceback (most recent call last)",
      "\u001b[0;32m<ipython-input-139-09f45d5b0961>\u001b[0m in \u001b[0;36m<module>\u001b[0;34m\u001b[0m\n\u001b[0;32m----> 1\u001b[0;31m \u001b[0mnew_arith\u001b[0m\u001b[0;34m(\u001b[0m\u001b[0;34m\"10\"\u001b[0m\u001b[0;34m,\u001b[0m \u001b[0;34m\"5\"\u001b[0m\u001b[0;34m)\u001b[0m\u001b[0;34m\u001b[0m\u001b[0;34m\u001b[0m\u001b[0m\n\u001b[0m",
      "\u001b[0;32m<ipython-input-138-df8d0ad1f845>\u001b[0m in \u001b[0;36mnew_arith\u001b[0;34m(num1, num2, convert)\u001b[0m\n\u001b[1;32m      9\u001b[0m \u001b[0;34m\u001b[0m\u001b[0m\n\u001b[1;32m     10\u001b[0m     \u001b[0madd\u001b[0m \u001b[0;34m=\u001b[0m \u001b[0mnum1\u001b[0m \u001b[0;34m+\u001b[0m \u001b[0mnum2\u001b[0m\u001b[0;34m\u001b[0m\u001b[0;34m\u001b[0m\u001b[0m\n\u001b[0;32m---> 11\u001b[0;31m     \u001b[0mmltply\u001b[0m \u001b[0;34m=\u001b[0m \u001b[0madd\u001b[0m\u001b[0;34m*\u001b[0m\u001b[0mnum2\u001b[0m\u001b[0;34m\u001b[0m\u001b[0;34m\u001b[0m\u001b[0m\n\u001b[0m\u001b[1;32m     12\u001b[0m     \u001b[0msbtrct\u001b[0m \u001b[0;34m=\u001b[0m \u001b[0mmltply\u001b[0m \u001b[0;34m-\u001b[0m \u001b[0mnum2\u001b[0m\u001b[0;34m\u001b[0m\u001b[0;34m\u001b[0m\u001b[0m\n\u001b[1;32m     13\u001b[0m     \u001b[0mdivide\u001b[0m \u001b[0;34m=\u001b[0m \u001b[0msbtrct\u001b[0m\u001b[0;34m/\u001b[0m\u001b[0mnum2\u001b[0m\u001b[0;34m\u001b[0m\u001b[0;34m\u001b[0m\u001b[0m\n",
      "\u001b[0;31mTypeError\u001b[0m: can't multiply sequence by non-int of type 'str'"
     ]
    }
   ],
   "source": [
    "#Since we didn't specify convert, it's assumed to be False\n",
    "#strings are not converted and we get an error\n",
    "new_arith(\"10\", \"5\")"
   ]
  },
  {
   "cell_type": "code",
   "execution_count": 140,
   "metadata": {
    "scrolled": true
   },
   "outputs": [
    {
     "data": {
      "text/plain": [
       "14"
      ]
     },
     "execution_count": 140,
     "metadata": {},
     "output_type": "execute_result"
    }
   ],
   "source": [
    "new_arith(\"10\", \"5\", convert=True)"
   ]
  },
  {
   "cell_type": "markdown",
   "metadata": {},
   "source": [
    "### Scope <a class=\"anchor\" id=\"scope\"></a>"
   ]
  },
  {
   "cell_type": "markdown",
   "metadata": {},
   "source": [
    "The variables in a program are not accessible by every part of the program. Based on accessibility, there are two types of variables - global variable and local variable.  \n",
    "  \n",
    "Global variables are variables that can be accessed by any part of the program. Example from this notebook would be `str1`, `str2`, `truth`, `l1` etc. These variables can be accesed by this entire notebook.  \n",
    "  \n",
    "Local variables are variables that can only be accessed in certain parts of the program, e.g. variables defined inside function. Example from this notebook would be  `mltply`, `sbtrct`, `add`, `convert`, `result` etc. these variables are only defined inside the function and can only be accessed by the respective functions"
   ]
  },
  {
   "cell_type": "code",
   "execution_count": 142,
   "metadata": {},
   "outputs": [
    {
     "ename": "NameError",
     "evalue": "name 'result' is not defined",
     "output_type": "error",
     "traceback": [
      "\u001b[0;31m---------------------------------------------------------------------------\u001b[0m",
      "\u001b[0;31mNameError\u001b[0m                                 Traceback (most recent call last)",
      "\u001b[0;32m<ipython-input-142-0ac921c19f1a>\u001b[0m in \u001b[0;36m<module>\u001b[0;34m\u001b[0m\n\u001b[0;32m----> 1\u001b[0;31m \u001b[0mresult\u001b[0m\u001b[0;34m\u001b[0m\u001b[0;34m\u001b[0m\u001b[0m\n\u001b[0m",
      "\u001b[0;31mNameError\u001b[0m: name 'result' is not defined"
     ]
    }
   ],
   "source": [
    "result"
   ]
  },
  {
   "cell_type": "code",
   "execution_count": 143,
   "metadata": {},
   "outputs": [
    {
     "ename": "NameError",
     "evalue": "name 'mltply' is not defined",
     "output_type": "error",
     "traceback": [
      "\u001b[0;31m---------------------------------------------------------------------------\u001b[0m",
      "\u001b[0;31mNameError\u001b[0m                                 Traceback (most recent call last)",
      "\u001b[0;32m<ipython-input-143-bff0281f9b05>\u001b[0m in \u001b[0;36m<module>\u001b[0;34m\u001b[0m\n\u001b[0;32m----> 1\u001b[0;31m \u001b[0mmltply\u001b[0m\u001b[0;34m\u001b[0m\u001b[0;34m\u001b[0m\u001b[0m\n\u001b[0m",
      "\u001b[0;31mNameError\u001b[0m: name 'mltply' is not defined"
     ]
    }
   ],
   "source": [
    "mltply"
   ]
  },
  {
   "cell_type": "markdown",
   "metadata": {},
   "source": [
    "## Miscellaneous"
   ]
  },
  {
   "cell_type": "markdown",
   "metadata": {},
   "source": [
    "### Dictionary <a class=\"anchor\" id=\"dict\"></a>"
   ]
  },
  {
   "cell_type": "markdown",
   "metadata": {},
   "source": [
    "### Tuples <a class=\"anchor\" id=\"tuple\"></a>"
   ]
  },
  {
   "cell_type": "markdown",
   "metadata": {},
   "source": [
    "### List Comprehension <a class=\"anchor\" id=\"lc\"></a>"
   ]
  },
  {
   "cell_type": "markdown",
   "metadata": {},
   "source": [
    "### Error Handling <a class=\"anchor\" id=\"eh\"></a>"
   ]
  },
  {
   "cell_type": "markdown",
   "metadata": {},
   "source": [
    "### Mapping Function <a class=\"anchor\" id=\"mf\"></a>"
   ]
  },
  {
   "cell_type": "markdown",
   "metadata": {},
   "source": [
    "### Lambda Expression <a class=\"anchor\" id=\"le\"></a>"
   ]
  },
  {
   "cell_type": "markdown",
   "metadata": {},
   "source": [
    "### User Input <a class=\"anchor\" id=\"ui\"></a>"
   ]
  },
  {
   "cell_type": "markdown",
   "metadata": {},
   "source": [
    "# Advanced Topics"
   ]
  },
  {
   "cell_type": "markdown",
   "metadata": {},
   "source": [
    "### Numpy <a class=\"anchor\" id=\"numpy\"></a>"
   ]
  },
  {
   "cell_type": "markdown",
   "metadata": {},
   "source": [
    "### Pandas <a class=\"anchor\" id=\"pandas\"></a>"
   ]
  },
  {
   "cell_type": "markdown",
   "metadata": {},
   "source": [
    "### Plotting <a class=\"anchor\" id=\"plot\"></a>"
   ]
  },
  {
   "cell_type": "markdown",
   "metadata": {},
   "source": [
    "### Debugging <a class=\"anchor\" id=\"pdb\"></a>"
   ]
  },
  {
   "cell_type": "markdown",
   "metadata": {},
   "source": [
    "### Other Useful Libraries <a class=\"anchor\" id=\"oul\"></a>"
   ]
  }
 ],
 "metadata": {
  "kernelspec": {
   "display_name": "Python 3",
   "language": "python",
   "name": "python3"
  },
  "language_info": {
   "codemirror_mode": {
    "name": "ipython",
    "version": 3
   },
   "file_extension": ".py",
   "mimetype": "text/x-python",
   "name": "python",
   "nbconvert_exporter": "python",
   "pygments_lexer": "ipython3",
   "version": "3.8.3"
  }
 },
 "nbformat": 4,
 "nbformat_minor": 4
}
