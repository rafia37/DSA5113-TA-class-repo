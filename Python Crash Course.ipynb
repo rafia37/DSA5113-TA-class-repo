{
 "cells": [
  {
   "cell_type": "markdown",
   "metadata": {},
   "source": [
    "### Topics\n",
    "This notebook covers the following topics -\n",
    "1. Basic Concepts\n",
    "    1. [Basic Syntax](#basic-syntax)\n",
    "    2. [Lists](#lists)\n",
    "    3. [String Manipulation](#string)\n",
    "    4. [Decision making (If statement)](#if)\n",
    "    5. Loops\n",
    "        1. [For loop](#for)\n",
    "        2. [While loop](#while)\n",
    "    6. [Function](#func)\n",
    "    7. Misc\n",
    "        1. [Dictionary](#dict)\n",
    "        2. [Tuples](#tuple)\n",
    "2. Advanced Concepts\n",
    "    1. [Numpy](#numpy)\n",
    "    2. [Pandas](#pandas)\n",
    "    3. [Matplotlib (Plotting)](#plot)\n",
    "    4. [pdb (Debugging)](#pdb)"
   ]
  },
  {
   "cell_type": "markdown",
   "metadata": {},
   "source": [
    "### Basic Syntax <a class=\"anchor\" id=\"basic-syntax\"></a>"
   ]
  },
  {
   "cell_type": "markdown",
   "metadata": {},
   "source": [
    "###### Hello World!"
   ]
  },
  {
   "cell_type": "code",
   "execution_count": 1,
   "metadata": {},
   "outputs": [
    {
     "name": "stdout",
     "output_type": "stream",
     "text": [
      "Hello World!\n"
     ]
    }
   ],
   "source": [
    "#A basic print statement to display given message\n",
    "print(\"Hello World!\")"
   ]
  },
  {
   "cell_type": "markdown",
   "metadata": {},
   "source": [
    "##### Basic Operations"
   ]
  },
  {
   "cell_type": "code",
   "execution_count": 57,
   "metadata": {},
   "outputs": [
    {
     "data": {
      "text/plain": [
       "12"
      ]
     },
     "execution_count": 57,
     "metadata": {},
     "output_type": "execute_result"
    }
   ],
   "source": [
    "#Addition\n",
    "2 + 10"
   ]
  },
  {
   "cell_type": "code",
   "execution_count": 60,
   "metadata": {},
   "outputs": [
    {
     "data": {
      "text/plain": [
       "-8"
      ]
     },
     "execution_count": 60,
     "metadata": {},
     "output_type": "execute_result"
    }
   ],
   "source": [
    "#Subtraction\n",
    "2 - 10"
   ]
  },
  {
   "cell_type": "code",
   "execution_count": 61,
   "metadata": {},
   "outputs": [
    {
     "data": {
      "text/plain": [
       "20"
      ]
     },
     "execution_count": 61,
     "metadata": {},
     "output_type": "execute_result"
    }
   ],
   "source": [
    "#Multiplication\n",
    "2*10"
   ]
  },
  {
   "cell_type": "code",
   "execution_count": 62,
   "metadata": {},
   "outputs": [
    {
     "data": {
      "text/plain": [
       "1.5"
      ]
     },
     "execution_count": 62,
     "metadata": {},
     "output_type": "execute_result"
    }
   ],
   "source": [
    "#Division\n",
    "3/2"
   ]
  },
  {
   "cell_type": "code",
   "execution_count": 63,
   "metadata": {},
   "outputs": [
    {
     "data": {
      "text/plain": [
       "1"
      ]
     },
     "execution_count": 63,
     "metadata": {},
     "output_type": "execute_result"
    }
   ],
   "source": [
    "#Integer division\n",
    "3//2"
   ]
  },
  {
   "cell_type": "code",
   "execution_count": 58,
   "metadata": {},
   "outputs": [
    {
     "data": {
      "text/plain": [
       "1000"
      ]
     },
     "execution_count": 58,
     "metadata": {},
     "output_type": "execute_result"
    }
   ],
   "source": [
    "#Raising to a power\n",
    "10**3"
   ]
  },
  {
   "cell_type": "code",
   "execution_count": 59,
   "metadata": {},
   "outputs": [
    {
     "data": {
      "text/plain": [
       "10000.0"
      ]
     },
     "execution_count": 59,
     "metadata": {},
     "output_type": "execute_result"
    }
   ],
   "source": [
    "#Exponentiating - not the same as 10^3\n",
    "10e3"
   ]
  },
  {
   "cell_type": "markdown",
   "metadata": {},
   "source": [
    "##### Defining Variables\n",
    "You can define variables as `variable_name = value`\n",
    "- Variable names can be alphanumeric though it can't start with a number.\n",
    "- Variable names are case sensitive\n",
    "- The values that you assign to a variable can be of these 5 standard data types\n",
    "    - Numbers (floats, integers, complex etc)\n",
    "    - Strings*\n",
    "    - List*\n",
    "    - Tuple*\n",
    "    - Dictionary*  \n",
    "    *Discussed in a later section. Will only show how to define them in this section."
   ]
  },
  {
   "cell_type": "code",
   "execution_count": 10,
   "metadata": {},
   "outputs": [],
   "source": [
    "#Numbers\n",
    "my_num = 5113  #Example of defining an integer\n",
    "my_float = 3.0 #Example of defining a float\n",
    "\n",
    "#Strings\n",
    "truth = \"This crash course is just the tip of the iceberg o_O\"\n",
    "\n",
    "#Lists\n",
    "same_type_list = [1,2,3,4,5] #A simple list of same type of objects - integers\n",
    "mixed_list = [1,2,\"three\", my_num, same_type_list] #A list containing many type of objects - integer, string, variable, another list\n",
    "\n",
    "#Dictionary\n",
    "simple_dict = {\"red\": 1, \"blue\":2, \"green\":3} #Similar to a list but enclosed in curly braces {} and consists of key-value pairs\n",
    "\n",
    "#Tuple\n",
    "aTuple = (1,2,3) #Similar to a list but enclosed in parenthesis ()"
   ]
  },
  {
   "cell_type": "markdown",
   "metadata": {},
   "source": [
    "##### More print statements\n",
    "Now we're going to print the variables we defined in the previous cell and look at some more ways to use the print statement"
   ]
  },
  {
   "cell_type": "code",
   "execution_count": 3,
   "metadata": {},
   "outputs": [
    {
     "name": "stdout",
     "output_type": "stream",
     "text": [
      "3.0\n"
     ]
    }
   ],
   "source": [
    "#printing a variable\n",
    "print(my_float)"
   ]
  },
  {
   "cell_type": "code",
   "execution_count": 11,
   "metadata": {},
   "outputs": [
    {
     "name": "stdout",
     "output_type": "stream",
     "text": [
      "This crash course is just the tip of the iceberg o_O\n"
     ]
    }
   ],
   "source": [
    "#printing the truth!\n",
    "print(truth)"
   ]
  },
  {
   "cell_type": "code",
   "execution_count": 4,
   "metadata": {
    "scrolled": true
   },
   "outputs": [
    {
     "name": "stdout",
     "output_type": "stream",
     "text": [
      "{'red': 1, 'blue': 2, 'green': 3}\n"
     ]
    }
   ],
   "source": [
    "print(simple_dict)"
   ]
  },
  {
   "cell_type": "code",
   "execution_count": 8,
   "metadata": {},
   "outputs": [
    {
     "name": "stdout",
     "output_type": "stream",
     "text": [
      "[1, 2, 'three', 5113, [1, 2, 3, 4, 5]]\n"
     ]
    }
   ],
   "source": [
    "print(mixed_list) #Notice how the 4th & 5th objects got the value of the variables we defined earlier"
   ]
  },
  {
   "cell_type": "code",
   "execution_count": 12,
   "metadata": {},
   "outputs": [
    {
     "name": "stdout",
     "output_type": "stream",
     "text": [
      "This is DSA 5113\n"
     ]
    }
   ],
   "source": [
    "#Dynamic printing\n",
    "print(\"This is DSA {}\".format(my_num)) #The value/variable given inside format replaces the curly braces in the string"
   ]
  },
  {
   "cell_type": "code",
   "execution_count": 15,
   "metadata": {},
   "outputs": [
    {
     "name": "stdout",
     "output_type": "stream",
     "text": [
      "Value of pi up to 4 decimal places = 3.1416\n"
     ]
    }
   ],
   "source": [
    "#When the dynamically set part is a number, we can set the precision\n",
    "print(\"Value of pi up to 4 decimal places = {:.4f}\".format(3.141592653589793238)) "
   ]
  },
  {
   "cell_type": "markdown",
   "metadata": {},
   "source": [
    "###### Variable Type & Conversion\n",
    "Every variable has a type (int, float, string, list, etc) and some of them can be converted into certain types"
   ]
  },
  {
   "cell_type": "code",
   "execution_count": 16,
   "metadata": {},
   "outputs": [
    {
     "data": {
      "text/plain": [
       "float"
      ]
     },
     "execution_count": 16,
     "metadata": {},
     "output_type": "execute_result"
    }
   ],
   "source": [
    "#Finding out the type of a variable\n",
    "type(my_float)"
   ]
  },
  {
   "cell_type": "code",
   "execution_count": 17,
   "metadata": {},
   "outputs": [
    {
     "name": "stdout",
     "output_type": "stream",
     "text": [
      "<class 'int'> <class 'dict'> <class 'str'> <class 'list'>\n"
     ]
    }
   ],
   "source": [
    "#printing the types of some other variables\n",
    "print(type(my_num), type(simple_dict), type(truth), type(mixed_list))"
   ]
  },
  {
   "cell_type": "code",
   "execution_count": 18,
   "metadata": {},
   "outputs": [
    {
     "data": {
      "text/plain": [
       "'3.0'"
      ]
     },
     "execution_count": 18,
     "metadata": {},
     "output_type": "execute_result"
    }
   ],
   "source": [
    "#Converting anything to string\n",
    "str(my_float)"
   ]
  },
  {
   "cell_type": "code",
   "execution_count": 19,
   "metadata": {},
   "outputs": [
    {
     "data": {
      "text/plain": [
       "\"{'red': 1, 'blue': 2, 'green': 3}\""
      ]
     },
     "execution_count": 19,
     "metadata": {},
     "output_type": "execute_result"
    }
   ],
   "source": [
    "str(simple_dict)"
   ]
  },
  {
   "cell_type": "code",
   "execution_count": 20,
   "metadata": {},
   "outputs": [
    {
     "data": {
      "text/plain": [
       "\"[1, 2, 'three', 5113, [1, 2, 3, 4, 5]]\""
      ]
     },
     "execution_count": 20,
     "metadata": {},
     "output_type": "execute_result"
    }
   ],
   "source": [
    "str(mixed_list)"
   ]
  },
  {
   "cell_type": "code",
   "execution_count": 21,
   "metadata": {},
   "outputs": [
    {
     "data": {
      "text/plain": [
       "3"
      ]
     },
     "execution_count": 21,
     "metadata": {},
     "output_type": "execute_result"
    }
   ],
   "source": [
    "#converting string to number\n",
    "three = \"3\"\n",
    "int(three)"
   ]
  },
  {
   "cell_type": "code",
   "execution_count": 22,
   "metadata": {},
   "outputs": [
    {
     "data": {
      "text/plain": [
       "3.0"
      ]
     },
     "execution_count": 22,
     "metadata": {},
     "output_type": "execute_result"
    }
   ],
   "source": [
    "float(three)"
   ]
  },
  {
   "cell_type": "code",
   "execution_count": 25,
   "metadata": {},
   "outputs": [
    {
     "data": {
      "text/plain": [
       "[1, 2, 3]"
      ]
     },
     "execution_count": 25,
     "metadata": {},
     "output_type": "execute_result"
    }
   ],
   "source": [
    "#Converting tuple to a list\n",
    "list(aTuple)"
   ]
  },
  {
   "cell_type": "code",
   "execution_count": 27,
   "metadata": {},
   "outputs": [
    {
     "data": {
      "text/plain": [
       "(1, 2, 3, 4, 5)"
      ]
     },
     "execution_count": 27,
     "metadata": {},
     "output_type": "execute_result"
    }
   ],
   "source": [
    "#Converting list to a tuple\n",
    "tuple(same_type_list)"
   ]
  },
  {
   "cell_type": "markdown",
   "metadata": {},
   "source": [
    "### Lists <a class=\"anchor\" id=\"lists\"></a>"
   ]
  },
  {
   "cell_type": "markdown",
   "metadata": {},
   "source": [
    "A versatile datatype that can be thought of as a collection of comma-seperated values.  \n",
    "Each item in a list has an index. The indices start with 0.  \n",
    "The items in a list doesn't need to be of the same type  "
   ]
  },
  {
   "cell_type": "code",
   "execution_count": 70,
   "metadata": {},
   "outputs": [
    {
     "name": "stdout",
     "output_type": "stream",
     "text": [
      "[2, 4, 6, 8, 10, 12, 14, 16, 18, 20, 22, 24, 26, 28, 30, 32, 34, 36, 38, 40, 42, 44, 46, 48]\n"
     ]
    }
   ],
   "source": [
    "#Defining some lists\n",
    "l1 = [1,2,3,4,5,6]\n",
    "l2 = [\"a\", \"b\", \"c\", \"d\"]\n",
    "l3 = list(range(2,50,2)) #Creates a list going from 2 up to and not including 50 in increments of 2\n",
    "print(l3) #displaying l3"
   ]
  },
  {
   "cell_type": "code",
   "execution_count": 33,
   "metadata": {},
   "outputs": [
    {
     "data": {
      "text/plain": [
       "6"
      ]
     },
     "execution_count": 33,
     "metadata": {},
     "output_type": "execute_result"
    }
   ],
   "source": [
    "#Length of a list \n",
    "#The len command gives the size of the list i.e. the total number of items\n",
    "len(l1)"
   ]
  },
  {
   "cell_type": "code",
   "execution_count": 34,
   "metadata": {},
   "outputs": [
    {
     "data": {
      "text/plain": [
       "4"
      ]
     },
     "execution_count": 34,
     "metadata": {},
     "output_type": "execute_result"
    }
   ],
   "source": [
    "len(l2)"
   ]
  },
  {
   "cell_type": "markdown",
   "metadata": {},
   "source": [
    "**Accessing list items** \n",
    "List items can be accessed using their index.  \n",
    "The first item has an index of 0, the next one has 1 and so on"
   ]
  },
  {
   "cell_type": "code",
   "execution_count": 32,
   "metadata": {},
   "outputs": [
    {
     "name": "stdout",
     "output_type": "stream",
     "text": [
      "First item of l2: a\n",
      "Third item of l1: 3\n"
     ]
    }
   ],
   "source": [
    "#First item of l2 is \"a\" and third item of l1 is 3\n",
    "print(\"First item of l2: {}\".format(l2[0])) # l2[0] accesses the item at 0th index of l2\n",
    "print(\"Third item of l1: {}\".format(l1[2])) # l1[0] accesses the item at 2nd index of l1"
   ]
  },
  {
   "cell_type": "markdown",
   "metadata": {},
   "source": [
    "**Indexing in reverse** List items can be accessed in reversed order using negative indices.  \n",
    "The last item canbe accessed with -1, second from last with -2 and so on"
   ]
  },
  {
   "cell_type": "code",
   "execution_count": 36,
   "metadata": {
    "scrolled": true
   },
   "outputs": [
    {
     "name": "stdout",
     "output_type": "stream",
     "text": [
      "Last item of l3: 48\n",
      "Third to last item of l1: 4\n"
     ]
    }
   ],
   "source": [
    "print(\"Last item of l3: {}\".format(l3[-1])) \n",
    "print(\"Third to last item of l1: {}\".format(l1[-3]))"
   ]
  },
  {
   "cell_type": "markdown",
   "metadata": {},
   "source": [
    "**Slicing**  \n",
    "Portions of a list can be chosen using some or all of 3 numbers - starting index, stopping index and increment  \n",
    "The syntax is `list_name[start:stop:increment]`"
   ]
  },
  {
   "cell_type": "code",
   "execution_count": 38,
   "metadata": {},
   "outputs": [
    {
     "data": {
      "text/plain": [
       "[2, 3, 4]"
      ]
     },
     "execution_count": 38,
     "metadata": {},
     "output_type": "execute_result"
    }
   ],
   "source": [
    "#If I want 2,3,4 from list l1, I want to start from index 1 and end at index 3\n",
    "#The stopping indes is not included so we choose 3+1=4 as stopping index\n",
    "l1[1:4]"
   ]
  },
  {
   "cell_type": "code",
   "execution_count": 41,
   "metadata": {},
   "outputs": [
    {
     "data": {
      "text/plain": [
       "[2, 4, 6]"
      ]
     },
     "execution_count": 41,
     "metadata": {},
     "output_type": "execute_result"
    }
   ],
   "source": [
    "#In this example we chose items from idex 1 up to index 5, skipping an item every time (increment of 2)\n",
    "l1[1:6:2]"
   ]
  },
  {
   "cell_type": "code",
   "execution_count": 42,
   "metadata": {},
   "outputs": [
    {
     "data": {
      "text/plain": [
       "[3, 4, 5, 6]"
      ]
     },
     "execution_count": 42,
     "metadata": {},
     "output_type": "execute_result"
    }
   ],
   "source": [
    "#If we just indicate starting index, everything after that is kept\n",
    "l1[2:]"
   ]
  },
  {
   "cell_type": "code",
   "execution_count": 44,
   "metadata": {},
   "outputs": [
    {
     "data": {
      "text/plain": [
       "[1, 2, 3, 4]"
      ]
     },
     "execution_count": 44,
     "metadata": {},
     "output_type": "execute_result"
    }
   ],
   "source": [
    "#If we just indicate stopping index, everything up to that is kept\n",
    "l1[:4]"
   ]
  },
  {
   "cell_type": "code",
   "execution_count": 46,
   "metadata": {},
   "outputs": [
    {
     "data": {
      "text/plain": [
       "[1, 2, 3, 4]"
      ]
     },
     "execution_count": 46,
     "metadata": {},
     "output_type": "execute_result"
    }
   ],
   "source": [
    "#Using reverse index\n",
    "l1[:-2] #Everything except for the last 2 items"
   ]
  },
  {
   "cell_type": "markdown",
   "metadata": {},
   "source": [
    "##### List operations"
   ]
  },
  {
   "cell_type": "code",
   "execution_count": 50,
   "metadata": {},
   "outputs": [
    {
     "data": {
      "text/plain": [
       "[1, 2, 3, 4, 5, 6, 'a', 'b', 'c', 'd']"
      ]
     },
     "execution_count": 50,
     "metadata": {},
     "output_type": "execute_result"
    }
   ],
   "source": [
    "#\"adding\" two lists results in concatenation\n",
    "l4 = l1 + l2\n",
    "l4"
   ]
  },
  {
   "cell_type": "code",
   "execution_count": 51,
   "metadata": {},
   "outputs": [
    {
     "data": {
      "text/plain": [
       "['hello', 'hello', 'hello', 'hello', 'hello']"
      ]
     },
     "execution_count": 51,
     "metadata": {},
     "output_type": "execute_result"
    }
   ],
   "source": [
    "#Multiplying a list by a scalar results in repetition\n",
    "[\"hello\"]*5"
   ]
  },
  {
   "cell_type": "code",
   "execution_count": 52,
   "metadata": {},
   "outputs": [
    {
     "data": {
      "text/plain": [
       "['a', 'b', 'c', 'd', 'a', 'b', 'c', 'd', 'a', 'b', 'c', 'd']"
      ]
     },
     "execution_count": 52,
     "metadata": {},
     "output_type": "execute_result"
    }
   ],
   "source": [
    "l2*3"
   ]
  },
  {
   "cell_type": "code",
   "execution_count": 53,
   "metadata": {},
   "outputs": [
    {
     "data": {
      "text/plain": [
       "[2, 2, 2, 2, 2, 2, 2]"
      ]
     },
     "execution_count": 53,
     "metadata": {},
     "output_type": "execute_result"
    }
   ],
   "source": [
    "[2]*7"
   ]
  },
  {
   "cell_type": "markdown",
   "metadata": {},
   "source": [
    "##### Some other popular string manipulation functions"
   ]
  },
  {
   "cell_type": "code",
   "execution_count": 71,
   "metadata": {},
   "outputs": [
    {
     "data": {
      "text/plain": [
       "['a', 'b', 'c', 'd', 'e']"
      ]
     },
     "execution_count": 71,
     "metadata": {},
     "output_type": "execute_result"
    }
   ],
   "source": [
    "#Appending to the end of an existing string\n",
    "l2.append(\"e\")\n",
    "l2"
   ]
  },
  {
   "cell_type": "code",
   "execution_count": 72,
   "metadata": {},
   "outputs": [
    {
     "data": {
      "text/plain": [
       "['a', 'b', 'f', 'c', 'd', 'e']"
      ]
     },
     "execution_count": 72,
     "metadata": {},
     "output_type": "execute_result"
    }
   ],
   "source": [
    "#Insert an item at a particular index - list_name(index, value)\n",
    "l2.insert(2,\"f\")\n",
    "l2"
   ]
  },
  {
   "cell_type": "code",
   "execution_count": 74,
   "metadata": {},
   "outputs": [
    {
     "data": {
      "text/plain": [
       "['a', 'b', 'c', 'd', 'e', 'f']"
      ]
     },
     "execution_count": 74,
     "metadata": {},
     "output_type": "execute_result"
    }
   ],
   "source": [
    "#sorting a list\n",
    "l2.sort()\n",
    "l2"
   ]
  },
  {
   "cell_type": "code",
   "execution_count": 75,
   "metadata": {},
   "outputs": [
    {
     "data": {
      "text/plain": [
       "[1, 2, 3, 5, 6, 'a', 'b', 'c', 'd']"
      ]
     },
     "execution_count": 75,
     "metadata": {},
     "output_type": "execute_result"
    }
   ],
   "source": [
    "#removes item by index and returns the removed item\n",
    "l4.pop(3) #remove the item at index 3\n",
    "l4"
   ]
  },
  {
   "cell_type": "code",
   "execution_count": 76,
   "metadata": {},
   "outputs": [
    {
     "data": {
      "text/plain": [
       "[1, 2, 3, 5, 6, 'b', 'c', 'd']"
      ]
     },
     "execution_count": 76,
     "metadata": {},
     "output_type": "execute_result"
    }
   ],
   "source": [
    "#remove item by matching value\n",
    "l4.remove(\"a\")\n",
    "l4"
   ]
  },
  {
   "cell_type": "code",
   "execution_count": 66,
   "metadata": {},
   "outputs": [
    {
     "data": {
      "text/plain": [
       "48"
      ]
     },
     "execution_count": 66,
     "metadata": {},
     "output_type": "execute_result"
    }
   ],
   "source": [
    "#maximum or minimum value of a list\n",
    "max(l3)\n",
    "#min(l3) for minimum"
   ]
  },
  {
   "cell_type": "markdown",
   "metadata": {},
   "source": [
    "### String Manipulation <a class=\"anchor\" id=\"string\"></a> "
   ]
  },
  {
   "cell_type": "markdown",
   "metadata": {},
   "source": [
    "Strings are values enclosed in single quotes ('') or double quotes (\"\")  \n",
    "These are characters or a series of characters and can be manipulated in very similar way to lists, though they have their own special functions  "
   ]
  },
  {
   "cell_type": "code",
   "execution_count": 91,
   "metadata": {},
   "outputs": [],
   "source": [
    "#Defining some strings\n",
    "str1 = \"I hear Rafia is a harsh grader\"\n",
    "str2 = \"NO NEED TO SHOUT\"\n",
    "str3 = \"fine, no caps lock\""
   ]
  },
  {
   "cell_type": "markdown",
   "metadata": {},
   "source": [
    "**Accessing & Slicing**"
   ]
  },
  {
   "cell_type": "code",
   "execution_count": 82,
   "metadata": {},
   "outputs": [
    {
     "name": "stdout",
     "output_type": "stream",
     "text": [
      "I hear Rafia\n",
      "I\n",
      "SHOUT\n",
      "no caps\n"
     ]
    }
   ],
   "source": [
    "#Very similar to lists\n",
    "print(str1[:12]) #Takes the 1st 10 characters\n",
    "print(str1[0]) #Accesses the first character\n",
    "print(str2[-5:]) #Takes last 5 characters\n",
    "print(str3[6:13]) #Takes 6 through 9"
   ]
  },
  {
   "cell_type": "markdown",
   "metadata": {},
   "source": [
    "**Other popular string manipulation functions**"
   ]
  },
  {
   "cell_type": "code",
   "execution_count": 83,
   "metadata": {},
   "outputs": [
    {
     "name": "stdout",
     "output_type": "stream",
     "text": [
      "['I', 'hear', 'Rafia', 'is', 'a', 'harsh', 'grader']\n",
      "['NO', 'NEED', 'TO', 'SHOUT']\n",
      "['fine', ' no caps lock']\n"
     ]
    }
   ],
   "source": [
    "#Splitting a string based on a sperator - str_name.split(separator)\n",
    "print(str1.split(\" \")) #separating based on space\n",
    "print(str2.split()) #If no argument is given to split, default separator is space\n",
    "print(str3.split(\",\")) #separating based on space"
   ]
  },
  {
   "cell_type": "code",
   "execution_count": 93,
   "metadata": {},
   "outputs": [
    {
     "name": "stdout",
     "output_type": "stream",
     "text": [
      "no need to shout\n",
      "FINE, NO CAPS LOCK\n",
      "Fine, no caps lock\n",
      "rED\n"
     ]
    }
   ],
   "source": [
    "#Changing case\n",
    "print(str2.lower()) #All lower case\n",
    "print(str3.upper()) #All upper case\n",
    "print(str3.capitalize()) #Only first letter upper case\n",
    "print(\"Red\".swapcase()) #swaps cases"
   ]
  },
  {
   "cell_type": "code",
   "execution_count": 89,
   "metadata": {},
   "outputs": [
    {
     "data": {
      "text/plain": [
       "'I hear Rafia is a good grader'"
      ]
     },
     "execution_count": 89,
     "metadata": {},
     "output_type": "execute_result"
    }
   ],
   "source": [
    "#Replace characters by given string\n",
    "str1.replace(\"harsh\", \"good\")"
   ]
  },
  {
   "cell_type": "code",
   "execution_count": 90,
   "metadata": {},
   "outputs": [
    {
     "data": {
      "text/plain": [
       "7"
      ]
     },
     "execution_count": 90,
     "metadata": {},
     "output_type": "execute_result"
    }
   ],
   "source": [
    "#Find a given pattern in a string\n",
    "str1.find(\"Rafia\") #Returns the index of where the pattern is found"
   ]
  },
  {
   "cell_type": "code",
   "execution_count": 85,
   "metadata": {},
   "outputs": [
    {
     "name": "stdout",
     "output_type": "stream",
     "text": [
      "NO NEED TO SHOUT  --  fine, no caps lock\n",
      "Strings can be anything, like 12345 is a string\n"
     ]
    }
   ],
   "source": [
    "#Concatenating and formating string\n",
    "print(str2 + \"  --  \" + str3) #adding string concatenates them\n",
    "str4 = \"Strings can be anything, like {} is a string\".format(12345)\n",
    "print(str4)"
   ]
  },
  {
   "cell_type": "code",
   "execution_count": 86,
   "metadata": {},
   "outputs": [
    {
     "data": {
      "text/plain": [
       "'HiHiHiHi'"
      ]
     },
     "execution_count": 86,
     "metadata": {},
     "output_type": "execute_result"
    }
   ],
   "source": [
    "#Like lists, we can multiply to repeat\n",
    "\"Hi\"*4"
   ]
  },
  {
   "cell_type": "code",
   "execution_count": 87,
   "metadata": {},
   "outputs": [
    {
     "data": {
      "text/plain": [
       "6"
      ]
     },
     "execution_count": 87,
     "metadata": {},
     "output_type": "execute_result"
    }
   ],
   "source": [
    "#Like lists, we can use len command to find the size of a string\n",
    "len(\"apples\")"
   ]
  },
  {
   "cell_type": "markdown",
   "metadata": {},
   "source": [
    "**Special Characters**"
   ]
  },
  {
   "cell_type": "code",
   "execution_count": 94,
   "metadata": {},
   "outputs": [
    {
     "name": "stdout",
     "output_type": "stream",
     "text": [
      "This is making \n",
      " a new line\n",
      "This just inserts \t a tab\n"
     ]
    }
   ],
   "source": [
    "#\\n makes a new line\n",
    "print(\"This is making \\n a new line\")\n",
    "#\\t inserts a tab\n",
    "print(\"This just inserts \\t a tab\")"
   ]
  },
  {
   "cell_type": "markdown",
   "metadata": {},
   "source": [
    "### If Statement <a class=\"anchor\" id=\"if\"></a>"
   ]
  },
  {
   "cell_type": "markdown",
   "metadata": {},
   "source": [
    "Executing blockes of code based on whether or not a given condition is true  \n",
    "The syntax is -\n",
    "```\n",
    "if (condition):\n",
    "    Do somthing\n",
    "elif (condition):\n",
    "    Do something else\n",
    "else:\n",
    "    Do something else\n",
    "```  \n",
    "Only one block will execute - the condition that returns true first  \n",
    "You can use as many elif blocks as needed"
   ]
  },
  {
   "cell_type": "code",
   "execution_count": 99,
   "metadata": {},
   "outputs": [
    {
     "name": "stdout",
     "output_type": "stream",
     "text": [
      "Yes c is in l2\n",
      "But now it's removed. Here's the new list\n",
      "['a', 'b', 'd', 'e', 'f']\n"
     ]
    }
   ],
   "source": [
    "if (\"c\" in l2):\n",
    "    print(\"Yes c is in l2\")\n",
    "    l2.remove(\"c\")\n",
    "    print(\"But now it's removed. Here's the new list\")\n",
    "    print(l2)"
   ]
  },
  {
   "cell_type": "code",
   "execution_count": 95,
   "metadata": {},
   "outputs": [],
   "source": [
    "a = 5 #defining a variable"
   ]
  },
  {
   "cell_type": "code",
   "execution_count": 96,
   "metadata": {},
   "outputs": [
    {
     "name": "stdout",
     "output_type": "stream",
     "text": [
      "a is less than 10\n"
     ]
    }
   ],
   "source": [
    "if (a>10):\n",
    "    print(\"a is greater than 10\")\n",
    "else:\n",
    "    print(\"a is less than 10\")"
   ]
  },
  {
   "cell_type": "code",
   "execution_count": 97,
   "metadata": {},
   "outputs": [
    {
     "name": "stdout",
     "output_type": "stream",
     "text": [
      "a is equal to 5\n"
     ]
    }
   ],
   "source": [
    "if (a>5):\n",
    "    print(\"a is greater than 5\")\n",
    "elif (a<5):\n",
    "    print(\"a is less than 5\")\n",
    "else:\n",
    "    print(\"a is equal to 5\")"
   ]
  },
  {
   "cell_type": "code",
   "execution_count": 101,
   "metadata": {},
   "outputs": [
    {
     "name": "stdout",
     "output_type": "stream",
     "text": [
      "b = yes, c = 0\n"
     ]
    }
   ],
   "source": [
    "# assigning a value to variable using if statement\n",
    "str5 = \"This is a great class\"\n",
    "b = \"yes\" if \"great\" in str5 else \"no\" #if great is in str5, b will get a value of yes, otherwise it will be no\n",
    "c = 1 if a>10 else 0 #if the variable a is greater than 10, c will be 1, otherwise 0\n",
    "print(\"b = {}, c = {}\".format(b,c))"
   ]
  },
  {
   "cell_type": "markdown",
   "metadata": {},
   "source": [
    "### For Loop <a class=\"anchor\" id=\"for\"></a>"
   ]
  },
  {
   "cell_type": "markdown",
   "metadata": {},
   "source": [
    "### While Loop <a class=\"anchor\" id=\"while\"></a>"
   ]
  },
  {
   "cell_type": "markdown",
   "metadata": {},
   "source": [
    "### Function <a class=\"anchor\" id=\"func\"></a>"
   ]
  },
  {
   "cell_type": "markdown",
   "metadata": {},
   "source": [
    "### Dictionary <a class=\"anchor\" id=\"dict\"></a>"
   ]
  },
  {
   "cell_type": "markdown",
   "metadata": {},
   "source": [
    "### Tuples <a class=\"anchor\" id=\"tuple\"></a>"
   ]
  },
  {
   "cell_type": "markdown",
   "metadata": {},
   "source": [
    "### Numpy <a class=\"anchor\" id=\"numpy\"></a>"
   ]
  },
  {
   "cell_type": "markdown",
   "metadata": {},
   "source": [
    "### Pandas <a class=\"anchor\" id=\"pandas\"></a>"
   ]
  },
  {
   "cell_type": "markdown",
   "metadata": {},
   "source": [
    "### Plotting <a class=\"anchor\" id=\"plot\"></a>"
   ]
  },
  {
   "cell_type": "markdown",
   "metadata": {},
   "source": [
    "### Debugging <a class=\"anchor\" id=\"pdb\"></a>"
   ]
  }
 ],
 "metadata": {
  "kernelspec": {
   "display_name": "Python 3",
   "language": "python",
   "name": "python3"
  },
  "language_info": {
   "codemirror_mode": {
    "name": "ipython",
    "version": 3
   },
   "file_extension": ".py",
   "mimetype": "text/x-python",
   "name": "python",
   "nbconvert_exporter": "python",
   "pygments_lexer": "ipython3",
   "version": "3.8.3"
  }
 },
 "nbformat": 4,
 "nbformat_minor": 4
}
